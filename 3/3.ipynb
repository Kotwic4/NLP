{
 "cells": [
  {
   "cell_type": "code",
   "execution_count": 1,
   "metadata": {
    "scrolled": true
   },
   "outputs": [],
   "source": [
    "import os\n",
    "import requests\n",
    "from collections import Counter\n",
    "from operator import add\n",
    "import functools"
   ]
  },
  {
   "cell_type": "code",
   "execution_count": 2,
   "metadata": {},
   "outputs": [],
   "source": [
    "def filesNames():\n",
    "    path = '../ustawy'\n",
    "    absolute_path = os.path.realpath(path) + \"\\\\\"\n",
    "    return [(absolute_path + filename, filename) for filename in os.listdir(path)]\n",
    "\n",
    "def getFileTextRaw(filename):\n",
    "    with open(filename, 'r', encoding=\"utf8\") as content_file:\n",
    "        return content_file.read()\n",
    "    \n",
    "def getIndexFromFilename(filename):\n",
    "    return filename.replace('.txt', '')\n",
    "\n",
    "def sendData(filename, content):\n",
    "    name = getIndexFromFilename(filename)\n",
    "    url = 'http://localhost:9200/lab3_index/act/{}'.format(name)\n",
    "    headers = {'Content-Type': 'application/json'}\n",
    "    data = {'content': content}\n",
    "    requests.put(url=url, json=data, headers=headers)\n",
    "    \n",
    "def sendAllData():\n",
    "    for (path, filename) in filesNames():\n",
    "        content = getFileTextRaw(path)\n",
    "        sendData(filename, content)"
   ]
  },
  {
   "cell_type": "code",
   "execution_count": null,
   "metadata": {},
   "outputs": [],
   "source": [
    "sendAllData()"
   ]
  },
  {
   "cell_type": "code",
   "execution_count": 3,
   "metadata": {},
   "outputs": [],
   "source": [
    "def getTerms(filename):\n",
    "    name = getIndexFromFilename(filename)\n",
    "    url = 'http://localhost:9200/lab3_index/act/{}/_termvectors'.format(name)\n",
    "    r = requests.get(url=url)\n",
    "    terms =  r.json()['term_vectors']['content']['terms']\n",
    "    mapTerms = {k: v['term_freq'] for (k,v) in terms.items()}\n",
    "    return mapTerms\n",
    "\n",
    "def aggregateTerms(terms):\n",
    "    return functools.reduce(add, (Counter(dict(x)) for x in terms))\n",
    "    \n",
    "def getAllAggregateTerms():\n",
    "    terms = [getTerms(filename) for (path, filename) in filesNames()]\n",
    "    return aggregateTerms(terms)"
   ]
  },
  {
   "cell_type": "code",
   "execution_count": 4,
   "metadata": {},
   "outputs": [],
   "source": [
    "aggregate_terms = getAllAggregateTerms()"
   ]
  },
  {
   "cell_type": "code",
   "execution_count": 5,
   "metadata": {},
   "outputs": [],
   "source": [
    "def filterTerms(terms):\n",
    "    return {x: terms[x] for x in terms if x.isalpha() and len(x) > 1}"
   ]
  },
  {
   "cell_type": "code",
   "execution_count": 6,
   "metadata": {},
   "outputs": [],
   "source": [
    "filter_aggregate_terms = filterTerms(aggregate_terms)"
   ]
  },
  {
   "cell_type": "code",
   "execution_count": 7,
   "metadata": {},
   "outputs": [],
   "source": [
    "def orderTerms(terms):\n",
    "    listTerm = [(k,terms[k]) for k in terms]\n",
    "    listTerm.sort(key = lambda x: (-x[1],x[0]))\n",
    "    return listTerm\n",
    "\n",
    "order_terms = orderTerms(filter_aggregate_terms)"
   ]
  },
  {
   "cell_type": "code",
   "execution_count": 13,
   "metadata": {},
   "outputs": [
    {
     "data": {
      "image/png": "[encoded data removed]",
      "text/plain": [
       "<Figure size 432x288 with 1 Axes>"
      ]
     },
     "metadata": {
      "needs_background": "light"
     },
     "output_type": "display_data"
    }
   ],
   "source": [
    "import matplotlib.pyplot as plt\n",
    "\n",
    "def plotValues(values):\n",
    "    fig, ax = plt.subplots()\n",
    "    xs = range(len(values))\n",
    "    ys = [x for x in values]\n",
    "    ax.set_yscale('log')\n",
    "    ax.plot(xs, ys)\n",
    "    plt.savefig('result.png')\n",
    "    plt.show()\n",
    "\n",
    "plotValues([x[1] for x in order_terms])"
   ]
  },
  {
   "cell_type": "code",
   "execution_count": 9,
   "metadata": {},
   "outputs": [],
   "source": [
    "def getPolSet():\n",
    "    filename = '../polimorfologik-2.1/polimorfologik-2.1.txt'\n",
    "    polSet = set()\n",
    "    with open(filename, 'r', encoding=\"utf8\") as content_file:\n",
    "        for line in content_file.readlines():\n",
    "            polSet.update(line.split(';'))\n",
    "    return polSet\n",
    "\n",
    "polSet = getPolSet()"
   ]
  },
  {
   "cell_type": "code",
   "execution_count": 16,
   "metadata": {},
   "outputs": [
    {
     "data": {
      "text/plain": [
       "[('margin', 1111),\n",
       " ('późn', 1080),\n",
       " ('ue', 591),\n",
       " ('family', 543),\n",
       " ('text', 531),\n",
       " ('mso', 448),\n",
       " ('bottom', 399),\n",
       " ('face', 327),\n",
       " ('panose', 326),\n",
       " ('serif', 325),\n",
       " ('gmo', 298),\n",
       " ('times', 296),\n",
       " ('iv', 272),\n",
       " ('pkp', 272),\n",
       " ('sa', 266),\n",
       " ('name', 254),\n",
       " ('size', 248),\n",
       " ('ewg', 235),\n",
       " ('left', 233),\n",
       " ('right', 233),\n",
       " ('sww', 227),\n",
       " ('nbp', 214),\n",
       " ('efta', 204),\n",
       " ('skw', 196),\n",
       " ('ex', 169),\n",
       " ('height', 168),\n",
       " ('line', 168),\n",
       " ('ike', 162),\n",
       " ('vi', 154),\n",
       " ('polsce', 150)]"
      ]
     },
     "execution_count": 16,
     "metadata": {},
     "output_type": "execute_result"
    }
   ],
   "source": [
    "[(k, v) for (k, v) in order_terms if k not in polSet][:30]"
   ]
  },
  {
   "cell_type": "code",
   "execution_count": 17,
   "metadata": {},
   "outputs": [
    {
     "data": {
      "text/plain": [
       "[('adaptacyjnoopiekuńcze', 3),\n",
       " ('agaricus', 3),\n",
       " ('apostille', 3),\n",
       " ('armenii', 3),\n",
       " ('asistent', 3),\n",
       " ('atenach', 3),\n",
       " ('auditorów', 3),\n",
       " ('aujeszky', 3),\n",
       " ('auschwitz', 3),\n",
       " ('autologicznego', 3),\n",
       " ('aw', 3),\n",
       " ('beliny', 3),\n",
       " ('betaagonistycznym', 3),\n",
       " ('betania', 3),\n",
       " ('białymstoku', 3),\n",
       " ('biorównoważności', 3),\n",
       " ('birkenau', 3),\n",
       " ('bochnia', 3),\n",
       " ('boguszów', 3),\n",
       " ('brucellosis', 3),\n",
       " ('cannabis', 3),\n",
       " ('caprine', 3),\n",
       " ('cattles', 3),\n",
       " ('cał', 3),\n",
       " ('cego', 3),\n",
       " ('chemiczn', 3),\n",
       " ('chloro', 3),\n",
       " ('cidr', 3),\n",
       " ('cobrpib', 3),\n",
       " ('condensed', 3)]"
      ]
     },
     "execution_count": 17,
     "metadata": {},
     "output_type": "execute_result"
    }
   ],
   "source": [
    "[(k, v) for (k, v) in order_terms if k not in polSet and v == 3][:30]"
   ]
  },
  {
   "cell_type": "code",
   "execution_count": 33,
   "metadata": {},
   "outputs": [
    {
     "name": "stdout",
     "output_type": "stream",
     "text": [
      "adaptacyjnoopiekuńcze adaptacyjny\n",
      "agaricus awaria\n",
      "apostille postulat\n",
      "armenii karmienie\n",
      "asistent asystent\n",
      "atenach antena\n",
      "auditorów audytor\n",
      "aujeszky areszt\n",
      "auschwitz uchwyt\n",
      "autologicznego autonomiczny\n",
      "aw aż\n",
      "beliny celny\n",
      "betaagonistycznym agonistyczny\n",
      "betania brytania\n",
      "białymstoku białostocki\n",
      "biorównoważności równoważność\n",
      "birkenau higiena\n",
      "bochnia bocznica\n",
      "boguszów poruszać\n",
      "brucellosis bruceloza\n",
      "cannabis napis\n",
      "caprine curie\n",
      "cattles atlas\n",
      "cał cały\n",
      "cego czego\n",
      "chemiczn chemiczny\n",
      "chloro chlor\n",
      "cidr cydr\n",
      "cobrpib obręb\n",
      "condensed kontener\n"
     ]
    }
   ],
   "source": [
    "import editdistance\n",
    "\n",
    "correct_words_ordered = [k for (k, v) in order_terms if k in polSet]\n",
    "strange_3_words = [k for (k, v) in order_terms if k not in polSet and v == 3][:30]\n",
    "\n",
    "for strange_word in strange_3_words:\n",
    "    min_distance = float('inf')\n",
    "    min_word = ''\n",
    "    for correct_word in correct_words_ordered:\n",
    "        distance = editdistance.eval(strange_word, correct_word)\n",
    "        if min_distance > distance:\n",
    "            min_distance = distance\n",
    "            min_word = correct_word\n",
    "    print(strange_word, min_word)"
   ]
  },
  {
   "cell_type": "code",
   "execution_count": null,
   "metadata": {},
   "outputs": [],
   "source": []
  }
 ],
 "metadata": {
  "kernelspec": {
   "display_name": "Python 3",
   "language": "python",
   "name": "python3"
  },
  "language_info": {
   "codemirror_mode": {
    "name": "ipython",
    "version": 3
   },
   "file_extension": ".py",
   "mimetype": "text/x-python",
   "name": "python",
   "nbconvert_exporter": "python",
   "pygments_lexer": "ipython3",
   "version": "3.7.1"
  }
 },
 "nbformat": 4,
 "nbformat_minor": 2
}
