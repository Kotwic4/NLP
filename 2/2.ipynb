{
 "cells": [
  {
   "cell_type": "code",
   "execution_count": 2,
   "metadata": {},
   "outputs": [],
   "source": [
    "import os\n",
    "import requests\n",
    "\n",
    "\n",
    "def filesNames():\n",
    "    path = './ustawy'\n",
    "    absolute_path = os.getcwd() + \"\\\\ustawy\\\\\"\n",
    "    return [(absolute_path + filename, filename) for filename in os.listdir(path)]\n",
    "\n",
    "def getFileTextRaw(filename):\n",
    "    with open(filename, 'r', encoding=\"utf8\") as content_file:\n",
    "        return content_file.read()\n",
    "\n",
    "def sendData(filename, content):\n",
    "    name = filename.replace('.txt', '')\n",
    "    url = 'http://localhost:9200/lab2_index/act/{}'.format(name)\n",
    "    headers = {'Content-Type': 'application/json'}\n",
    "    data = {'content': content}\n",
    "    requests.put(url=url, json=data, headers=headers)\n",
    "    \n",
    "for (path, filename) in filesNames():\n",
    "    content = getFileTextRaw(path)\n",
    "    sendData(filename, content)\n"
   ]
  },
  {
   "cell_type": "code",
   "execution_count": null,
   "metadata": {},
   "outputs": [],
   "source": []
  }
 ],
 "metadata": {
  "kernelspec": {
   "display_name": "Python 3",
   "language": "python",
   "name": "python3"
  },
  "language_info": {
   "codemirror_mode": {
    "name": "ipython",
    "version": 3
   },
   "file_extension": ".py",
   "mimetype": "text/x-python",
   "name": "python",
   "nbconvert_exporter": "python",
   "pygments_lexer": "ipython3",
   "version": "3.7.1"
  }
 },
 "nbformat": 4,
 "nbformat_minor": 2
}
